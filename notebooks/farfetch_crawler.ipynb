{
 "cells": [
  {
   "cell_type": "markdown",
   "metadata": {},
   "source": [
    "# Data Collection\n",
    "\n",
    "This notebook will crawl the Farfetch website for product images & text descriptions. The scope is limited to the Women's Dresses category. We will crawl 100 pages with 90 products each, totalling 9000 products."
   ]
  },
  {
   "cell_type": "code",
   "execution_count": 53,
   "metadata": {},
   "outputs": [],
   "source": [
    "import os\n",
    "import glob\n",
    "import json\n",
    "import requests\n",
    "import pprint\n",
    "import time\n",
    "from tqdm.notebook import tqdm\n",
    "\n",
    "import cv2\n",
    "import pandas as pd\n",
    "from bs4 import BeautifulSoup"
   ]
  },
  {
   "cell_type": "code",
   "execution_count": 3,
   "metadata": {},
   "outputs": [],
   "source": [
    "headers = {\n",
    "    'Origin': 'https://www.farfetch.com',\n",
    "    'User-Agent': 'Mozilla/5.0 (Windows NT 10.0; Win64; x64) AppleWebKit/537.36 (KHTML, like Gecko) Chrome/75.0.3770.100 Safari/537.36'\n",
    "}\n",
    "\n",
    "def get_session(url):\n",
    "    session = requests.Session()\n",
    "    res = session.get(url, headers=headers)\n",
    "    cookies = res.cookies\n",
    "    return session\n",
    "\n",
    "def get_request(session, url):\n",
    "    res = session.get(url, headers=headers)\n",
    "    soup = BeautifulSoup(res.content.decode(), 'html.parser')\n",
    "    return soup\n",
    "\n",
    "def get_product_desc(soup):\n",
    "    return soup.find(\"div\", {\"id\": \"productDesc\"}).text"
   ]
  },
  {
   "cell_type": "code",
   "execution_count": 4,
   "metadata": {},
   "outputs": [],
   "source": [
    "base_url = \"https://www.farfetch.com\"\n",
    "session = get_session(base_url)"
   ]
  },
  {
   "cell_type": "markdown",
   "metadata": {},
   "source": [
    "# Crawl product list from category page & product image and description\n",
    "\n",
    "We loop through each page & crawl the product id, url, desciprtion & image url for each product. "
   ]
  },
  {
   "cell_type": "code",
   "execution_count": 5,
   "metadata": {},
   "outputs": [],
   "source": [
    "gender = \"women\"\n",
    "category = \"dresses-1\"\n",
    "pages = 100"
   ]
  },
  {
   "cell_type": "code",
   "execution_count": 8,
   "metadata": {},
   "outputs": [
    {
     "name": "stdout",
     "output_type": "stream",
     "text": [
      "https://www.farfetch.com/hk/shopping/women/dresses-1/items.aspx?page=91&view=90&sort=3&scale=274\n"
     ]
    },
    {
     "data": {
      "application/vnd.jupyter.widget-view+json": {
       "model_id": "f5f3d2f4ca2841c9a842919fd25557bc",
       "version_major": 2,
       "version_minor": 0
      },
      "text/plain": [
       "  0%|          | 0/90 [00:00<?, ?it/s]"
      ]
     },
     "metadata": {},
     "output_type": "display_data"
    },
    {
     "name": "stdout",
     "output_type": "stream",
     "text": [
      "https://www.farfetch.com/hk/shopping/women/dresses-1/items.aspx?page=92&view=90&sort=3&scale=274\n"
     ]
    },
    {
     "data": {
      "application/vnd.jupyter.widget-view+json": {
       "model_id": "86024e2358284e8d86d81f25f2bb7844",
       "version_major": 2,
       "version_minor": 0
      },
      "text/plain": [
       "  0%|          | 0/90 [00:00<?, ?it/s]"
      ]
     },
     "metadata": {},
     "output_type": "display_data"
    },
    {
     "name": "stdout",
     "output_type": "stream",
     "text": [
      "https://www.farfetch.com/hk/shopping/women/dresses-1/items.aspx?page=93&view=90&sort=3&scale=274\n"
     ]
    },
    {
     "data": {
      "application/vnd.jupyter.widget-view+json": {
       "model_id": "5d8a3a3c7f534df6a809e3605c3d26d1",
       "version_major": 2,
       "version_minor": 0
      },
      "text/plain": [
       "  0%|          | 0/90 [00:00<?, ?it/s]"
      ]
     },
     "metadata": {},
     "output_type": "display_data"
    },
    {
     "name": "stdout",
     "output_type": "stream",
     "text": [
      "https://www.farfetch.com/hk/shopping/women/dresses-1/items.aspx?page=94&view=90&sort=3&scale=274\n"
     ]
    },
    {
     "data": {
      "application/vnd.jupyter.widget-view+json": {
       "model_id": "5a475cffb280416cb779863db1801d3a",
       "version_major": 2,
       "version_minor": 0
      },
      "text/plain": [
       "  0%|          | 0/90 [00:00<?, ?it/s]"
      ]
     },
     "metadata": {},
     "output_type": "display_data"
    },
    {
     "name": "stdout",
     "output_type": "stream",
     "text": [
      "https://www.farfetch.com/hk/shopping/women/dresses-1/items.aspx?page=95&view=90&sort=3&scale=274\n"
     ]
    },
    {
     "data": {
      "application/vnd.jupyter.widget-view+json": {
       "model_id": "bb048ccb0e7e4977b842ccd062acdf49",
       "version_major": 2,
       "version_minor": 0
      },
      "text/plain": [
       "  0%|          | 0/90 [00:00<?, ?it/s]"
      ]
     },
     "metadata": {},
     "output_type": "display_data"
    },
    {
     "name": "stdout",
     "output_type": "stream",
     "text": [
      "https://www.farfetch.com/hk/shopping/women/dresses-1/items.aspx?page=96&view=90&sort=3&scale=274\n"
     ]
    },
    {
     "data": {
      "application/vnd.jupyter.widget-view+json": {
       "model_id": "03640ddbe91e4eb3b8d6b33c902445d6",
       "version_major": 2,
       "version_minor": 0
      },
      "text/plain": [
       "  0%|          | 0/90 [00:00<?, ?it/s]"
      ]
     },
     "metadata": {},
     "output_type": "display_data"
    },
    {
     "name": "stdout",
     "output_type": "stream",
     "text": [
      "https://www.farfetch.com/hk/shopping/women/dresses-1/items.aspx?page=97&view=90&sort=3&scale=274\n"
     ]
    },
    {
     "data": {
      "application/vnd.jupyter.widget-view+json": {
       "model_id": "cbc548dd99f84376862b377edc638e98",
       "version_major": 2,
       "version_minor": 0
      },
      "text/plain": [
       "  0%|          | 0/90 [00:00<?, ?it/s]"
      ]
     },
     "metadata": {},
     "output_type": "display_data"
    },
    {
     "name": "stdout",
     "output_type": "stream",
     "text": [
      "https://www.farfetch.com/hk/shopping/women/dresses-1/items.aspx?page=98&view=90&sort=3&scale=274\n"
     ]
    },
    {
     "data": {
      "application/vnd.jupyter.widget-view+json": {
       "model_id": "10e94aee17bd4d0b8d8aeed7aca84b79",
       "version_major": 2,
       "version_minor": 0
      },
      "text/plain": [
       "  0%|          | 0/90 [00:00<?, ?it/s]"
      ]
     },
     "metadata": {},
     "output_type": "display_data"
    },
    {
     "name": "stdout",
     "output_type": "stream",
     "text": [
      "https://www.farfetch.com/hk/shopping/women/dresses-1/items.aspx?page=99&view=90&sort=3&scale=274\n"
     ]
    },
    {
     "data": {
      "application/vnd.jupyter.widget-view+json": {
       "model_id": "2fd708d9eefd4129b30620857ecff8c9",
       "version_major": 2,
       "version_minor": 0
      },
      "text/plain": [
       "  0%|          | 0/90 [00:00<?, ?it/s]"
      ]
     },
     "metadata": {},
     "output_type": "display_data"
    },
    {
     "name": "stdout",
     "output_type": "stream",
     "text": [
      "https://www.farfetch.com/hk/shopping/women/dresses-1/items.aspx?page=100&view=90&sort=3&scale=274\n"
     ]
    },
    {
     "data": {
      "application/vnd.jupyter.widget-view+json": {
       "model_id": "8c437a1f7254438eabcf7784ea9262b5",
       "version_major": 2,
       "version_minor": 0
      },
      "text/plain": [
       "  0%|          | 0/90 [00:00<?, ?it/s]"
      ]
     },
     "metadata": {},
     "output_type": "display_data"
    },
    {
     "name": "stdout",
     "output_type": "stream",
     "text": [
      "saved to ./women-dresses-1-checkpoint-page-100.csv\n"
     ]
    }
   ],
   "source": [
    "# session might time out from time to time and need to manually create checkpoint files\n",
    "\n",
    "items = []\n",
    "    \n",
    "for page in range(1, pages+1):\n",
    "    \n",
    "    # make url\n",
    "    url = f\"https://www.farfetch.com/hk/shopping/{gender}/{category}/items.aspx?page={page}&view=90&sort=3&scale=274\"\n",
    "    print(url)\n",
    "\n",
    "    # get div\n",
    "    soup = get_request(session, url)\n",
    "    div_all = soup.find(\"div\", {\"data-testid\": \"productArea\"}).find_all(\"div\", {\"data-component\": \"ProductCard\"})\n",
    "\n",
    "    for i, div in tqdm(enumerate(div_all), total=len(div_all)):\n",
    "        # get link and name\n",
    "        a = div.find(\"a\")\n",
    "        href = a.get(\"href\")\n",
    "        name = a.get(\"aria-label\")\n",
    "        _split = name.split(\":\")\n",
    "        brand = _split[0]\n",
    "        name = \":\".join(_split[1:])\n",
    "\n",
    "        # get images\n",
    "        m = div.find_all(\"meta\", {\"itemprop\": \"image\"})[0]\n",
    "        image = m.get(\"content\")\n",
    "        # use 240 px version\n",
    "        image = image.replace(\"_480.jpg\", \"_240.jpg\")\n",
    "\n",
    "        # get product description\n",
    "        url = base_url + href\n",
    "        product_id = url.split(\".aspx\")[0].split(\"-\")[-1]\n",
    "        soup = get_request(session, url)\n",
    "        desc = soup.find(\"div\", {\"data-tstid\": \"productDetails\"}).get_text(separator='. ').strip().lower()\n",
    "        desc = (\n",
    "            desc.replace(\"conscious\", \"\")\n",
    "            .replace(\"new season\", \"\")\n",
    "            .replace(\"exclusive\", \"\")\n",
    "        )\n",
    "        items.append({\n",
    "            \"gender\": gender,\n",
    "            \"category\": category,\n",
    "            \"product_id\": product_id,\n",
    "            \"name\": name,\n",
    "            \"brand\": brand,\n",
    "            \"url\": url,\n",
    "            \"product_desc\": desc,\n",
    "            \"image\": image\n",
    "        })\n",
    "        time.sleep(0.1)\n",
    "\n",
    "    time.sleep(0.5)\n",
    "\n",
    "\n",
    "# save csv\n",
    "filename = f\"./{gender}-{category}-checkpoint-page-{page}.csv\"\n",
    "pd.DataFrame(items).to_csv(filename, index=False)\n",
    "print(f\"saved to {filename}\")"
   ]
  },
  {
   "cell_type": "markdown",
   "metadata": {},
   "source": [
    "# Combine the checkpoint CSV files"
   ]
  },
  {
   "cell_type": "code",
   "execution_count": 33,
   "metadata": {},
   "outputs": [],
   "source": [
    "filenames = glob.glob(f\"./{gender}-{category}-checkpoint*.csv\")\n",
    "df = pd.concat([pd.read_csv(f) for f in filenames])\n",
    "df = df.reset_index(drop=True)"
   ]
  },
  {
   "cell_type": "code",
   "execution_count": 61,
   "metadata": {},
   "outputs": [
    {
     "data": {
      "text/html": [
       "<div>\n",
       "<style scoped>\n",
       "    .dataframe tbody tr th:only-of-type {\n",
       "        vertical-align: middle;\n",
       "    }\n",
       "\n",
       "    .dataframe tbody tr th {\n",
       "        vertical-align: top;\n",
       "    }\n",
       "\n",
       "    .dataframe thead th {\n",
       "        text-align: right;\n",
       "    }\n",
       "</style>\n",
       "<table border=\"1\" class=\"dataframe\">\n",
       "  <thead>\n",
       "    <tr style=\"text-align: right;\">\n",
       "      <th></th>\n",
       "      <th>gender</th>\n",
       "      <th>category</th>\n",
       "      <th>product_id</th>\n",
       "      <th>name</th>\n",
       "      <th>brand</th>\n",
       "      <th>url</th>\n",
       "      <th>product_desc</th>\n",
       "      <th>image</th>\n",
       "    </tr>\n",
       "  </thead>\n",
       "  <tbody>\n",
       "    <tr>\n",
       "      <th>0</th>\n",
       "      <td>women</td>\n",
       "      <td>dresses-1</td>\n",
       "      <td>18093545</td>\n",
       "      <td>floral-print pleated georgette midi dress</td>\n",
       "      <td>GANNI</td>\n",
       "      <td>https://www.farfetch.com/hk/shopping/women/gan...</td>\n",
       "      <td>. . ganni . floral-print pleated georgette mid...</td>\n",
       "      <td>https://cdn-images.farfetch-contents.com/18/09...</td>\n",
       "    </tr>\n",
       "    <tr>\n",
       "      <th>1</th>\n",
       "      <td>women</td>\n",
       "      <td>dresses-1</td>\n",
       "      <td>17229007</td>\n",
       "      <td>open-back slip dress</td>\n",
       "      <td>Nanushka</td>\n",
       "      <td>https://www.farfetch.com/hk/shopping/women/nan...</td>\n",
       "      <td>. . nanushka . open-back slip dress . highligh...</td>\n",
       "      <td>https://cdn-images.farfetch-contents.com/17/22...</td>\n",
       "    </tr>\n",
       "    <tr>\n",
       "      <th>2</th>\n",
       "      <td>women</td>\n",
       "      <td>dresses-1</td>\n",
       "      <td>18310269</td>\n",
       "      <td>floral-print sweetheart neck dress</td>\n",
       "      <td>Reformation</td>\n",
       "      <td>https://www.farfetch.com/hk/shopping/women/ref...</td>\n",
       "      <td>. . reformation . floral-print sweetheart neck...</td>\n",
       "      <td>https://cdn-images.farfetch-contents.com/18/31...</td>\n",
       "    </tr>\n",
       "    <tr>\n",
       "      <th>3</th>\n",
       "      <td>women</td>\n",
       "      <td>dresses-1</td>\n",
       "      <td>16260247</td>\n",
       "      <td>embroidered logo T-shirt dress</td>\n",
       "      <td>Marine Serre</td>\n",
       "      <td>https://www.farfetch.com/hk/shopping/women/mar...</td>\n",
       "      <td>. . marine serre . embroidered logo t-shirt dr...</td>\n",
       "      <td>https://cdn-images.farfetch-contents.com/16/26...</td>\n",
       "    </tr>\n",
       "    <tr>\n",
       "      <th>4</th>\n",
       "      <td>women</td>\n",
       "      <td>dresses-1</td>\n",
       "      <td>17786874</td>\n",
       "      <td>3D jacquard warp dress</td>\n",
       "      <td>GANNI</td>\n",
       "      <td>https://www.farfetch.com/hk/shopping/women/gan...</td>\n",
       "      <td>. . ganni . 3d jacquard warp dress. highlights...</td>\n",
       "      <td>https://cdn-images.farfetch-contents.com/17/78...</td>\n",
       "    </tr>\n",
       "    <tr>\n",
       "      <th>...</th>\n",
       "      <td>...</td>\n",
       "      <td>...</td>\n",
       "      <td>...</td>\n",
       "      <td>...</td>\n",
       "      <td>...</td>\n",
       "      <td>...</td>\n",
       "      <td>...</td>\n",
       "      <td>...</td>\n",
       "    </tr>\n",
       "    <tr>\n",
       "      <th>8995</th>\n",
       "      <td>women</td>\n",
       "      <td>dresses-1</td>\n",
       "      <td>17496270</td>\n",
       "      <td>Trevor knit mini dress</td>\n",
       "      <td>Alice+Olivia</td>\n",
       "      <td>https://www.farfetch.com/hk/shopping/women/ali...</td>\n",
       "      <td>. alice+olivia . trevor knit mini dress. highl...</td>\n",
       "      <td>https://cdn-images.farfetch-contents.com/17/49...</td>\n",
       "    </tr>\n",
       "    <tr>\n",
       "      <th>8996</th>\n",
       "      <td>women</td>\n",
       "      <td>dresses-1</td>\n",
       "      <td>18097019</td>\n",
       "      <td>Qipao jersey short-sleeve dress</td>\n",
       "      <td>Shanghai Tang</td>\n",
       "      <td>https://www.farfetch.com/hk/shopping/women/sha...</td>\n",
       "      <td>. shanghai tang . qipao jersey short-sleeve dr...</td>\n",
       "      <td>https://cdn-images.farfetch-contents.com/18/09...</td>\n",
       "    </tr>\n",
       "    <tr>\n",
       "      <th>8997</th>\n",
       "      <td>women</td>\n",
       "      <td>dresses-1</td>\n",
       "      <td>17971157</td>\n",
       "      <td>jacquard off-shoulder minidress</td>\n",
       "      <td>MSGM</td>\n",
       "      <td>https://www.farfetch.com/hk/shopping/women/msg...</td>\n",
       "      <td>. msgm . jacquard off-shoulder minidress. this...</td>\n",
       "      <td>https://cdn-images.farfetch-contents.com/17/97...</td>\n",
       "    </tr>\n",
       "    <tr>\n",
       "      <th>8998</th>\n",
       "      <td>women</td>\n",
       "      <td>dresses-1</td>\n",
       "      <td>17820587</td>\n",
       "      <td>broderie anglaise long-sleeve dress</td>\n",
       "      <td>Marchesa Notte</td>\n",
       "      <td>https://www.farfetch.com/hk/shopping/women/mar...</td>\n",
       "      <td>. marchesa notte . broderie anglaise long-slee...</td>\n",
       "      <td>https://cdn-images.farfetch-contents.com/17/82...</td>\n",
       "    </tr>\n",
       "    <tr>\n",
       "      <th>8999</th>\n",
       "      <td>women</td>\n",
       "      <td>dresses-1</td>\n",
       "      <td>18174678</td>\n",
       "      <td>zipped sweetheart-neck flared dress</td>\n",
       "      <td>Alexander McQueen</td>\n",
       "      <td>https://www.farfetch.com/hk/shopping/women/ale...</td>\n",
       "      <td>. alexander mcqueen . zipped sweetheart-neck f...</td>\n",
       "      <td>https://cdn-images.farfetch-contents.com/18/17...</td>\n",
       "    </tr>\n",
       "  </tbody>\n",
       "</table>\n",
       "<p>9000 rows × 8 columns</p>\n",
       "</div>"
      ],
      "text/plain": [
       "     gender   category product_id                                        name  \\\n",
       "0     women  dresses-1   18093545   floral-print pleated georgette midi dress   \n",
       "1     women  dresses-1   17229007                       open-back slip dress    \n",
       "2     women  dresses-1   18310269          floral-print sweetheart neck dress   \n",
       "3     women  dresses-1   16260247              embroidered logo T-shirt dress   \n",
       "4     women  dresses-1   17786874                      3D jacquard warp dress   \n",
       "...     ...        ...        ...                                         ...   \n",
       "8995  women  dresses-1   17496270                      Trevor knit mini dress   \n",
       "8996  women  dresses-1   18097019             Qipao jersey short-sleeve dress   \n",
       "8997  women  dresses-1   17971157             jacquard off-shoulder minidress   \n",
       "8998  women  dresses-1   17820587         broderie anglaise long-sleeve dress   \n",
       "8999  women  dresses-1   18174678         zipped sweetheart-neck flared dress   \n",
       "\n",
       "                  brand                                                url  \\\n",
       "0                 GANNI  https://www.farfetch.com/hk/shopping/women/gan...   \n",
       "1              Nanushka  https://www.farfetch.com/hk/shopping/women/nan...   \n",
       "2           Reformation  https://www.farfetch.com/hk/shopping/women/ref...   \n",
       "3          Marine Serre  https://www.farfetch.com/hk/shopping/women/mar...   \n",
       "4                 GANNI  https://www.farfetch.com/hk/shopping/women/gan...   \n",
       "...                 ...                                                ...   \n",
       "8995       Alice+Olivia  https://www.farfetch.com/hk/shopping/women/ali...   \n",
       "8996      Shanghai Tang  https://www.farfetch.com/hk/shopping/women/sha...   \n",
       "8997               MSGM  https://www.farfetch.com/hk/shopping/women/msg...   \n",
       "8998     Marchesa Notte  https://www.farfetch.com/hk/shopping/women/mar...   \n",
       "8999  Alexander McQueen  https://www.farfetch.com/hk/shopping/women/ale...   \n",
       "\n",
       "                                           product_desc  \\\n",
       "0     . . ganni . floral-print pleated georgette mid...   \n",
       "1     . . nanushka . open-back slip dress . highligh...   \n",
       "2     . . reformation . floral-print sweetheart neck...   \n",
       "3     . . marine serre . embroidered logo t-shirt dr...   \n",
       "4     . . ganni . 3d jacquard warp dress. highlights...   \n",
       "...                                                 ...   \n",
       "8995  . alice+olivia . trevor knit mini dress. highl...   \n",
       "8996  . shanghai tang . qipao jersey short-sleeve dr...   \n",
       "8997  . msgm . jacquard off-shoulder minidress. this...   \n",
       "8998  . marchesa notte . broderie anglaise long-slee...   \n",
       "8999  . alexander mcqueen . zipped sweetheart-neck f...   \n",
       "\n",
       "                                                  image  \n",
       "0     https://cdn-images.farfetch-contents.com/18/09...  \n",
       "1     https://cdn-images.farfetch-contents.com/17/22...  \n",
       "2     https://cdn-images.farfetch-contents.com/18/31...  \n",
       "3     https://cdn-images.farfetch-contents.com/16/26...  \n",
       "4     https://cdn-images.farfetch-contents.com/17/78...  \n",
       "...                                                 ...  \n",
       "8995  https://cdn-images.farfetch-contents.com/17/49...  \n",
       "8996  https://cdn-images.farfetch-contents.com/18/09...  \n",
       "8997  https://cdn-images.farfetch-contents.com/17/97...  \n",
       "8998  https://cdn-images.farfetch-contents.com/17/82...  \n",
       "8999  https://cdn-images.farfetch-contents.com/18/17...  \n",
       "\n",
       "[9000 rows x 8 columns]"
      ]
     },
     "execution_count": 61,
     "metadata": {},
     "output_type": "execute_result"
    }
   ],
   "source": [
    "df"
   ]
  },
  {
   "cell_type": "code",
   "execution_count": 62,
   "metadata": {},
   "outputs": [],
   "source": [
    "df.to_csv(f\"./{gender}-{category}.csv\", index=False)"
   ]
  },
  {
   "cell_type": "markdown",
   "metadata": {},
   "source": [
    "# download images"
   ]
  },
  {
   "cell_type": "code",
   "execution_count": 74,
   "metadata": {},
   "outputs": [
    {
     "name": "stderr",
     "output_type": "stream",
     "text": [
      "100%|██████████████████████████████████████████████████████████████████████████████| 9000/9000 [11:49<00:00, 12.69it/s]\n"
     ]
    }
   ],
   "source": [
    "import contextlib\n",
    "import joblib\n",
    "from joblib import Parallel, delayed\n",
    "from tqdm import tqdm\n",
    "\n",
    "@contextlib.contextmanager\n",
    "def tqdm_joblib(tqdm_object):\n",
    "    \"\"\"\n",
    "    Context manager to patch joblib to report into tqdm progress bar given as argument\n",
    "    source: https://stackoverflow.com/questions/24983493/tracking-progress-of-joblib-parallel-execution/58936697#58936697\n",
    "    \"\"\"\n",
    "    class TqdmBatchCompletionCallback(joblib.parallel.BatchCompletionCallBack):\n",
    "        def __call__(self, *args, **kwargs):\n",
    "            tqdm_object.update(n=self.batch_size)\n",
    "            return super().__call__(*args, **kwargs)\n",
    "\n",
    "    old_batch_callback = joblib.parallel.BatchCompletionCallBack\n",
    "    joblib.parallel.BatchCompletionCallBack = TqdmBatchCompletionCallback\n",
    "    try:\n",
    "        yield tqdm_object\n",
    "    finally:\n",
    "        joblib.parallel.BatchCompletionCallBack = old_batch_callback\n",
    "        tqdm_object.close()\n",
    "        \n",
    "\n",
    "def download_image(product_id, image_url):\n",
    "    \"\"\" Download & save image to directory \"\"\"\n",
    "    dest = f'../data/farfetch/images/{product_id[:2]}/{product_id}.jpg'\n",
    "    if os.path.exists(dest):\n",
    "        return\n",
    "    \n",
    "    os.makedirs(os.path.dirname(dest), exist_ok=True)\n",
    "    \n",
    "    resp = requests.get(image_url)\n",
    "    with open(dest, 'wb') as f:\n",
    "        f.write(resp.content)\n",
    "        \n",
    "with tqdm_joblib(tqdm(total=len(df))):\n",
    "    Parallel(n_jobs=16)(delayed(download_image)(row[\"product_id\"], row[\"image\"]) for _, row in df.iterrows())"
   ]
  },
  {
   "cell_type": "code",
   "execution_count": null,
   "metadata": {},
   "outputs": [],
   "source": []
  }
 ],
 "metadata": {
  "kernelspec": {
   "display_name": "Python 3 (ipykernel)",
   "language": "python",
   "name": "python3"
  },
  "language_info": {
   "codemirror_mode": {
    "name": "ipython",
    "version": 3
   },
   "file_extension": ".py",
   "mimetype": "text/x-python",
   "name": "python",
   "nbconvert_exporter": "python",
   "pygments_lexer": "ipython3",
   "version": "3.9.7"
  }
 },
 "nbformat": 4,
 "nbformat_minor": 4
}
